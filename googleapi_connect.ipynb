{
 "cells": [
  {
   "cell_type": "code",
   "execution_count": 1,
   "metadata": {},
   "outputs": [
    {
     "name": "stdout",
     "output_type": "stream",
     "text": [
      "Note: you may need to restart the kernel to use updated packages.Requirement already satisfied: google-api-python-client in c:\\users\\91979\\appdata\\local\\programs\\python\\python39\\lib\\site-packages (2.69.0)\n"
     ]
    },
    {
     "name": "stderr",
     "output_type": "stream",
     "text": [
      "WARNING: You are using pip version 21.2.3; however, version 22.3.1 is available.\n",
      "You should consider upgrading via the 'c:\\Users\\91979\\AppData\\Local\\Programs\\Python\\Python39\\python.exe -m pip install --upgrade pip' command.\n"
     ]
    },
    {
     "name": "stdout",
     "output_type": "stream",
     "text": [
      "\n",
      "Collecting google-api-python-client\n",
      "  Downloading google_api_python_client-2.70.0-py2.py3-none-any.whl (10.7 MB)\n",
      "Requirement already satisfied: google-auth-httplib2 in c:\\users\\91979\\appdata\\local\\programs\\python\\python39\\lib\\site-packages (0.1.0)\n",
      "Collecting google-auth-oauthlib\n",
      "  Downloading google_auth_oauthlib-0.8.0-py2.py3-none-any.whl (19 kB)\n",
      "Requirement already satisfied: uritemplate<5,>=3.0.1 in c:\\users\\91979\\appdata\\local\\programs\\python\\python39\\lib\\site-packages (from google-api-python-client) (4.1.1)\n",
      "Requirement already satisfied: httplib2<1dev,>=0.15.0 in c:\\users\\91979\\appdata\\local\\programs\\python\\python39\\lib\\site-packages (from google-api-python-client) (0.21.0)\n",
      "Requirement already satisfied: google-auth<3.0.0dev,>=1.19.0 in c:\\users\\91979\\appdata\\local\\programs\\python\\python39\\lib\\site-packages (from google-api-python-client) (2.15.0)\n",
      "Requirement already satisfied: google-api-core!=2.0.*,!=2.1.*,!=2.2.*,!=2.3.0,<3.0.0dev,>=1.31.5 in c:\\users\\91979\\appdata\\local\\programs\\python\\python39\\lib\\site-packages (from google-api-python-client) (2.11.0)\n",
      "Requirement already satisfied: six in c:\\users\\91979\\appdata\\local\\programs\\python\\python39\\lib\\site-packages (from google-auth-httplib2) (1.16.0)\n",
      "Collecting requests-oauthlib>=0.7.0\n",
      "  Downloading requests_oauthlib-1.3.1-py2.py3-none-any.whl (23 kB)\n",
      "Requirement already satisfied: requests<3.0.0dev,>=2.18.0 in c:\\users\\91979\\appdata\\local\\programs\\python\\python39\\lib\\site-packages (from google-api-core!=2.0.*,!=2.1.*,!=2.2.*,!=2.3.0,<3.0.0dev,>=1.31.5->google-api-python-client) (2.26.0)\n",
      "Requirement already satisfied: googleapis-common-protos<2.0dev,>=1.56.2 in c:\\users\\91979\\appdata\\local\\programs\\python\\python39\\lib\\site-packages (from google-api-core!=2.0.*,!=2.1.*,!=2.2.*,!=2.3.0,<3.0.0dev,>=1.31.5->google-api-python-client) (1.57.0)\n",
      "Requirement already satisfied: protobuf!=3.20.0,!=3.20.1,!=4.21.0,!=4.21.1,!=4.21.2,!=4.21.3,!=4.21.4,!=4.21.5,<5.0.0dev,>=3.19.5 in c:\\users\\91979\\appdata\\local\\programs\\python\\python39\\lib\\site-packages (from google-api-core!=2.0.*,!=2.1.*,!=2.2.*,!=2.3.0,<3.0.0dev,>=1.31.5->google-api-python-client) (4.21.11)\n",
      "Requirement already satisfied: pyasn1-modules>=0.2.1 in c:\\users\\91979\\appdata\\local\\programs\\python\\python39\\lib\\site-packages (from google-auth<3.0.0dev,>=1.19.0->google-api-python-client) (0.2.8)\n",
      "Requirement already satisfied: cachetools<6.0,>=2.0.0 in c:\\users\\91979\\appdata\\local\\programs\\python\\python39\\lib\\site-packages (from google-auth<3.0.0dev,>=1.19.0->google-api-python-client) (5.2.0)\n",
      "Requirement already satisfied: rsa<5,>=3.1.4 in c:\\users\\91979\\appdata\\local\\programs\\python\\python39\\lib\\site-packages (from google-auth<3.0.0dev,>=1.19.0->google-api-python-client) (4.9)\n",
      "Requirement already satisfied: pyparsing!=3.0.0,!=3.0.1,!=3.0.2,!=3.0.3,<4,>=2.4.2 in c:\\users\\91979\\appdata\\local\\programs\\python\\python39\\lib\\site-packages (from httplib2<1dev,>=0.15.0->google-api-python-client) (2.4.7)\n",
      "Requirement already satisfied: pyasn1<0.5.0,>=0.4.6 in c:\\users\\91979\\appdata\\local\\programs\\python\\python39\\lib\\site-packages (from pyasn1-modules>=0.2.1->google-auth<3.0.0dev,>=1.19.0->google-api-python-client) (0.4.8)\n",
      "Requirement already satisfied: urllib3<1.27,>=1.21.1 in c:\\users\\91979\\appdata\\local\\programs\\python\\python39\\lib\\site-packages (from requests<3.0.0dev,>=2.18.0->google-api-core!=2.0.*,!=2.1.*,!=2.2.*,!=2.3.0,<3.0.0dev,>=1.31.5->google-api-python-client) (1.26.7)\n",
      "Requirement already satisfied: idna<4,>=2.5 in c:\\users\\91979\\appdata\\local\\programs\\python\\python39\\lib\\site-packages (from requests<3.0.0dev,>=2.18.0->google-api-core!=2.0.*,!=2.1.*,!=2.2.*,!=2.3.0,<3.0.0dev,>=1.31.5->google-api-python-client) (3.3)\n",
      "Requirement already satisfied: charset-normalizer~=2.0.0 in c:\\users\\91979\\appdata\\local\\programs\\python\\python39\\lib\\site-packages (from requests<3.0.0dev,>=2.18.0->google-api-core!=2.0.*,!=2.1.*,!=2.2.*,!=2.3.0,<3.0.0dev,>=1.31.5->google-api-python-client) (2.0.7)\n",
      "Requirement already satisfied: certifi>=2017.4.17 in c:\\users\\91979\\appdata\\local\\programs\\python\\python39\\lib\\site-packages (from requests<3.0.0dev,>=2.18.0->google-api-core!=2.0.*,!=2.1.*,!=2.2.*,!=2.3.0,<3.0.0dev,>=1.31.5->google-api-python-client) (2021.10.8)\n",
      "Collecting oauthlib>=3.0.0\n",
      "  Downloading oauthlib-3.2.2-py3-none-any.whl (151 kB)\n",
      "Installing collected packages: oauthlib, requests-oauthlib, google-auth-oauthlib, google-api-python-client\n",
      "  Attempting uninstall: google-api-python-client\n",
      "    Found existing installation: google-api-python-client 2.69.0\n",
      "    Uninstalling google-api-python-client-2.69.0:\n",
      "      Successfully uninstalled google-api-python-client-2.69.0\n",
      "Successfully installed google-api-python-client-2.70.0 google-auth-oauthlib-0.8.0 oauthlib-3.2.2 requests-oauthlib-1.3.1\n"
     ]
    }
   ],
   "source": [
    "pip install --upgrade google-api-python-client google-auth-httplib2 google-auth-oauthlib"
   ]
  },
  {
   "cell_type": "code",
   "execution_count": 1,
   "metadata": {},
   "outputs": [
    {
     "name": "stdout",
     "output_type": "stream",
     "text": [
      "Please visit this URL to authorize this application: https://accounts.google.com/o/oauth2/auth?response_type=code&client_id=932571347009-3nglpkb07ka9nokqntrl4b4fmd1v0619.apps.googleusercontent.com&redirect_uri=http%3A%2F%2Flocalhost%3A50314%2F&scope=https%3A%2F%2Fwww.googleapis.com%2Fauth%2Fdrive.metadata.readonly&state=TAU4Ck4a1RLvwFvOQqjPhqUtjRwQnp&access_type=offline\n",
      "Files:\n",
      "kaggle.json (1u715jTMwjsLNI0sPjb35OA6K81M6q5qE)\n",
      "kaggle_datasets (1R1Uhs9iioiTa88FYCSY-IRKkZ6_WtcT3)\n",
      "Hrishikesh_LOR1_new (1ZlIqz4pSH8A_vRtFQ50rW2FD7cfdycSdamOIsa-giSo)\n",
      "Hrishikesh LOR1.docx (1ZKC-QyRnPhFHSGcsTe6lp0lb3w_2AUTP)\n",
      "SDE : JD for EliteFit.AI (1H8XlnOyIjl2jsR_3b9ciThLdRgn0SCzx7NqR6wWEyVQ)\n",
      "Hrishikesh SOP (17fXu98sn7uH_cdBne1V-5cun_lpCxtQ-2mrUpGycO-Y)\n",
      "SOP (sustainable dev).docx (1C7MakEekNicJ_5UWf2H1RHpCanHzsoab)\n",
      "Hrishikesh's Resume.pdf (1Yewz55zXySQqHJiuVAvkGfUpUKOkt-sV)\n",
      "class10-2_merged.pdf (1iUo3O-0twUahVvEMVqkz0jtaj2nQqA1X)\n",
      "Hrishikesh Handique Fresher- Set J (1da2IoIpbiM9APv54G7y6W8Byztfv1UMEZk6EYRLJoME)\n"
     ]
    }
   ],
   "source": [
    "from __future__ import print_function\n",
    "\n",
    "import os.path\n",
    "\n",
    "from google.auth.transport.requests import Request\n",
    "from google.oauth2.credentials import Credentials\n",
    "from google_auth_oauthlib.flow import InstalledAppFlow\n",
    "from googleapiclient.discovery import build\n",
    "from googleapiclient.errors import HttpError\n",
    "\n",
    "# If modifying these scopes, delete the file token.json.\n",
    "SCOPES = ['https://www.googleapis.com/auth/drive.metadata.readonly']\n",
    "\n",
    "\n",
    "def main():\n",
    "    \"\"\"Shows basic usage of the Drive v3 API.\n",
    "    Prints the names and ids of the first 10 files the user has access to.\n",
    "    \"\"\"\n",
    "    creds = None\n",
    "    # The file token.json stores the user's access and refresh tokens, and is\n",
    "    # created automatically when the authorization flow completes for the first\n",
    "    # time.\n",
    "    if os.path.exists('token.json'):\n",
    "        creds = Credentials.from_authorized_user_file('token.json', SCOPES)\n",
    "    # If there are no (valid) credentials available, let the user log in.\n",
    "    if not creds or not creds.valid:\n",
    "        if creds and creds.expired and creds.refresh_token:\n",
    "            creds.refresh(Request())\n",
    "        else:\n",
    "            flow = InstalledAppFlow.from_client_secrets_file(\n",
    "                'credentials.json', SCOPES)\n",
    "            creds = flow.run_local_server(port=0)\n",
    "        # Save the credentials for the next run\n",
    "        with open('token.json', 'w') as token:\n",
    "            token.write(creds.to_json())\n",
    "\n",
    "    try:\n",
    "        service = build('drive', 'v3', credentials=creds)\n",
    "\n",
    "        # Call the Drive v3 API\n",
    "        results = service.files().list(\n",
    "            pageSize=10, fields=\"nextPageToken, files(id, name)\").execute()\n",
    "        items = results.get('files', [])\n",
    "\n",
    "        if not items:\n",
    "            print('No files found.')\n",
    "            return\n",
    "        print('Files:')\n",
    "        for item in items:\n",
    "            print(u'{0} ({1})'.format(item['name'], item['id']))\n",
    "    except HttpError as error:\n",
    "        # TODO(developer) - Handle errors from drive API.\n",
    "        print(f'An error occurred: {error}')\n",
    "\n",
    "\n",
    "if __name__ == '__main__':\n",
    "    main()"
   ]
  },
  {
   "cell_type": "code",
   "execution_count": 5,
   "metadata": {},
   "outputs": [
    {
     "name": "stdout",
     "output_type": "stream",
     "text": [
      "[WinError 3] The system cannot find the path specified: '/content/gdrive/My Drive'\n",
      "c:\\Users\\91979\\OneDrive\\Desktop\\pythonProjects\\Fuel_efficiency\n"
     ]
    }
   ],
   "source": [
    "from __future__ import print_function\n",
    "\n",
    "from googleapiclient import discovery\n",
    "from httplib2 import Http\n",
    "from oauth2client import file, client, tools\n",
    "\n",
    "SCOPES = 'https://www.googleapis.com/auth/drive.readonly.metadata'\n",
    "store = file.Storage('storage.json')\n",
    "creds = store.get()\n",
    "if not creds or creds.invalid:\n",
    "    flow = client.flow_from_clientsecrets('client_id.json', SCOPES)\n",
    "    creds = tools.run_flow(flow, store)\n",
    "DRIVE = discovery.build('drive', 'v3', http=creds.authorize(Http()))\n",
    "\n",
    "files = DRIVE.files().list().execute().get('files', [])\n",
    "for f in files:\n",
    "    print(f['name'], f['mimeType'])"
   ]
  },
  {
   "cell_type": "code",
   "execution_count": 1,
   "metadata": {},
   "outputs": [],
   "source": [
    "import pandas"
   ]
  }
 ],
 "metadata": {
  "kernelspec": {
   "display_name": "base",
   "language": "python",
   "name": "python3"
  },
  "language_info": {
   "codemirror_mode": {
    "name": "ipython",
    "version": 3
   },
   "file_extension": ".py",
   "mimetype": "text/x-python",
   "name": "python",
   "nbconvert_exporter": "python",
   "pygments_lexer": "ipython3",
   "version": "3.8.8"
  },
  "orig_nbformat": 4,
  "vscode": {
   "interpreter": {
    "hash": "68876738994295ab6304aebe64d9bad1fb8d55dc975cf630fda1965ebb7e9563"
   }
  }
 },
 "nbformat": 4,
 "nbformat_minor": 2
}
